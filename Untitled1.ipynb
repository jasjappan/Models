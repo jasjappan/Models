{
 "cells": [
  {
   "cell_type": "code",
   "execution_count": 8,
   "id": "a40063bf-4c53-4a3e-8159-c04be0e75d72",
   "metadata": {
    "scrolled": true
   },
   "outputs": [],
   "source": [
    "# import os\n",
    "# os.environ[\"PYTORCH_CUDA_ALLOC_CONF\"] = \"expandable_segments:True\"\n",
    "import torch\n",
    "import torch\n",
    "import torch.nn as nn\n",
    "import torchvision.transforms.functional as TF\n",
    "import numpy as np\n",
    "import kagglehub\n",
    "from torch.utils.data import Dataset, DataLoader\n",
    "import os\n",
    "from PIL import Image\n",
    "import torch\n",
    "from torchvision import transforms\n",
    "import matplotlib.pyplot as plt\n",
    "from torch.utils.data import Dataset, DataLoader\n",
    "import torch\n",
    "import torch.nn as nn\n",
    "import torch.optim as optim\n",
    "import numpy as np\n",
    "from torch.utils.data import Dataset\n",
    "from tqdm import tqdm\n",
    "import os\n",
    "import glob\n",
    "import cv2\n",
    "from PIL import Image\n",
    "import pandas as pd\n",
    "import torch\n",
    "from torchvision.models.segmentation import deeplabv3_resnet50\n",
    "from torchvision import models\n",
    "from torchsummary import summary"
   ]
  },
  {
   "cell_type": "code",
   "execution_count": 23,
   "id": "e89ff111-1a68-424f-b371-fcd327e207bb",
   "metadata": {},
   "outputs": [],
   "source": [
    "from torch.optim.lr_scheduler import CyclicLR, OneCycleLR, CosineAnnealingWarmRestarts, LinearLR\n",
    "import torchmetrics\n",
    "from torchmetrics import JaccardIndex\n"
   ]
  },
  {
   "cell_type": "code",
   "execution_count": 13,
   "id": "dc18aa7b-b70d-4f91-929d-be95abbc2996",
   "metadata": {},
   "outputs": [
    {
     "name": "stdout",
     "output_type": "stream",
     "text": [
      "Using device cuda:0\n",
      "GPU Name: NVIDIA GeForce RTX 4090\n",
      "\u001b[34m\u001b[1mwandb\u001b[0m: \u001b[33mWARNING\u001b[0m Using legacy-service, which is deprecated. If this is unintentional, you can fix it by ensuring you do not call `wandb.require('legacy-service')` and do not set the WANDB_X_REQUIRE_LEGACY_SERVICE environment variable.\n",
      "\u001b[34m\u001b[1mwandb\u001b[0m: Currently logged in as: \u001b[33mjasjap\u001b[0m (\u001b[33mjasjappan\u001b[0m) to \u001b[32mhttps://api.wandb.ai\u001b[0m. Use \u001b[1m`wandb login --relogin`\u001b[0m to force relogin\n",
      "Logging data to wandb\n"
     ]
    }
   ],
   "source": [
    "seed = 42\n",
    "torch.cuda.manual_seed(seed)\n",
    "torch.cuda.manual_seed_all(seed)\n",
    "torch.backends.cudnn.deterministic = True\n",
    "torch.backends.cudnn.benchmark = False\n",
    "torch.backends.cudnn.benchmark = True\n",
    "\n",
    "device = torch.device(\"cpu\") if not torch.cuda.is_available() else torch.device(\"cuda:0\")\n",
    "print(\"Using device\", device)\n",
    "gpu_name = torch.cuda.get_device_name(device)\n",
    "print(f\"GPU Name: {gpu_name}\")\n",
    "!wandb login\n",
    "print(\"Logging data to wandb\")"
   ]
  },
  {
   "cell_type": "code",
   "execution_count": 14,
   "id": "64da07fa-d845-451e-a8ed-7a85f3b0634f",
   "metadata": {},
   "outputs": [],
   "source": [
    "# torch.cuda.empty_cache()\n",
    "\n",
    "# print(torch.cuda.memory_summary())\n",
    "# print(torch.cuda.memory_allocated())\n",
    "# print(torch.cuda.memory_reserved())\n"
   ]
  },
  {
   "cell_type": "code",
   "execution_count": null,
   "id": "bb7f0efd-1244-4804-b3cd-7fd4251c7214",
   "metadata": {},
   "outputs": [],
   "source": [
    "#Define Optimiser and Learning Rate Scheduling\n",
    "optimizer = optim.Adam(model.parameters(), lr=1.0e-3)\n",
    "scheduler = OneCycleLR(optimizer, \n",
    "                       max_lr=5.0e-4,                     # Upper learning rate boundaries in the cycle for each parameter group\n",
    "                       steps_per_epoch=len(train_loader), # The number of steps per epoch to train for.\n",
    "                       epochs=EPOCHS,                     # The number of epochs to train for.\n",
    "                       anneal_strategy='cos')             # Specifies the annealing strategy"
   ]
  },
  {
   "cell_type": "code",
   "execution_count": 28,
   "id": "39a976bb-c628-45c6-8178-e7baa7a29646",
   "metadata": {},
   "outputs": [],
   "source": [
    "import torchvision.transforms as T\n",
    "transform = T.Compose([\n",
    "    T.Resize((256, 256)),\n",
    "    T.ToTensor(),\n",
    "])"
   ]
  },
  {
   "cell_type": "code",
   "execution_count": 29,
   "id": "ada78d3f-ca75-4ca1-8578-c13f4cfd253f",
   "metadata": {},
   "outputs": [],
   "source": [
    " class Cityscape(Dataset):\n",
    "    def __init__(self, dcit, transform=transform, label_map='categoryId', operation='train'):\n",
    "        self.transform = transform\n",
    "        self.ds = dcit\n",
    "        self.label_map = label_map\n",
    "        self.dataset_ops = operation\n",
    "        self.id_2_train = {}\n",
    "        self.id_2_cat = {}\n",
    "        self.trainid_2_name = {}\n",
    "        self.train_2_id = {}\n",
    "        self.id_2_name = {}\n",
    "        \n",
    "        # Add category mappings for verification\n",
    "        self.categoryid_2_name = {}\n",
    "        \n",
    "        for lbl in labels:\n",
    "            self.id_2_train[lbl.id] = 0 if lbl.ignoreInEval else lbl.trainId\n",
    "            self.id_2_cat[lbl.id] = lbl.categoryId\n",
    "            if not lbl.ignoreInEval:\n",
    "                self.trainid_2_name[lbl.trainId] = lbl.name\n",
    "                self.train_2_id[lbl.trainId] = lbl.id\n",
    "            self.id_2_name[lbl.id] = lbl.name\n",
    "            \n",
    "            # Build category ID to name mapping\n",
    "            if lbl.categoryId not in self.categoryid_2_name:\n",
    "                self.categoryid_2_name[lbl.categoryId] = lbl.category\n",
    "    \n",
    "    def get_category_info(self):\n",
    "        \"\"\"Helper method to get category information\"\"\"\n",
    "        return {\n",
    "            'categoryid_2_name': self.categoryid_2_name,\n",
    "            'num_categories': len(self.categoryid_2_name),\n",
    "            'category_ids': list(self.categoryid_2_name.keys())\n",
    "        }\n",
    "    \n",
    "    def __getitem__(self, idx):\n",
    "        sample = self.ds[self.dataset_ops][idx]\n",
    "        img = sample['image']\n",
    "        mask = np.array(sample['label']).astype(np.float32)\n",
    "\n",
    "        if self.label_map == 'id':\n",
    "            mask[mask == -1] = 0  # Default ignore\n",
    "        elif self.label_map == 'trainId':\n",
    "            mapped_mask = np.zeros_like(mask, dtype=np.uint8)\n",
    "            for _id, train_id in self.id_2_train.items():\n",
    "                mapped_mask[mask == _id] = train_id\n",
    "            mask = mapped_mask\n",
    "        elif self.label_map == 'categoryId':\n",
    "            mapped_mask = np.zeros_like(mask, dtype=np.uint8)\n",
    "            for _id, cat_id in self.id_2_cat.items():\n",
    "                mapped_mask[mask == _id] = cat_id\n",
    "            mask = mapped_mask\n",
    "\n",
    "        mask = Image.fromarray(mask)\n",
    "        mask = mask.resize((256, 256), resample=Image.NEAREST)\n",
    "        mask = torch.from_numpy(np.array(mask)).long()\n",
    "\n",
    "        if self.transform:\n",
    "            img = self.transform(img)\n",
    "\n",
    "        return img, mask\n",
    "\n",
    "    def __len__(self):\n",
    "        return len(self.ds[self.dataset_ops])"
   ]
  },
  {
   "cell_type": "code",
   "execution_count": null,
   "id": "e9d219dc-aed3-4e7b-8553-47c4f67fd5b5",
   "metadata": {},
   "outputs": [],
   "source": [
    "train_metrics = {\n",
    "\n",
    "    'seg_loss' : [],\n",
    "    'loss': [],\n",
    "    'IOU' : []\n",
    "    \n",
    "}\n",
    "eval_metrics = {\n",
    "    'seg_loss': [],\n",
    "    'loss': [],\n",
    "    'IOU': [],   \n",
    "    'IOU_class_mean': [],   \n",
    "    'IOU_per_class_all': []  \n",
    "}"
   ]
  },
  {
   "cell_type": "code",
   "execution_count": 30,
   "id": "53bc9f67-d1b1-4fcd-a396-3a15fe8eb5dc",
   "metadata": {},
   "outputs": [],
   "source": [
    "num_classes = 40\n",
    "jaccard = JaccardIndex(task='multiclass', num_classes=num_classes) # usage: jaccard(pred, target)\n",
    "def evaluate_metrics(pred,mask,num_classes):\n",
    "    preds_net = torch.argmax(outputs, dim=1) #[B, C, H, W]  →  [B, H, W]\n",
    "    per_class_iou = jaccard(preds_net.detach().cpu(), mask.detach().cpu())  # [num_classes] return IOU per class\n",
    "    mean_iou = per_class_iou.mean().item()\n",
    "    eval_metrics['IOU'].append(mean_iou)\n",
    "    eval_metrics['IOU_class_mean'].append(mean_iou)\n",
    "    eval_metrics['IOU_per_class_all'].append(per_class_iou.tolist())   \n",
    "    for c in range(num_classes):\n",
    "            eval_metrics[f\"IOU_class_{c}\"].append(per_class_iou[c].item())"
   ]
  },
  {
   "cell_type": "code",
   "execution_count": 31,
   "id": "7a17d9ca-5a5a-42f3-aacc-2eeb2303e5d7",
   "metadata": {},
   "outputs": [
    {
     "ename": "NameError",
     "evalue": "name 'ds' is not defined",
     "output_type": "error",
     "traceback": [
      "\u001b[0;31m---------------------------------------------------------------------------\u001b[0m",
      "\u001b[0;31mNameError\u001b[0m                                 Traceback (most recent call last)",
      "Cell \u001b[0;32mIn[31], line 2\u001b[0m\n\u001b[1;32m      1\u001b[0m path \u001b[38;5;241m=\u001b[39m \u001b[38;5;124m\"\u001b[39m\u001b[38;5;124m\"\u001b[39m \u001b[38;5;66;03m#RootDir\u001b[39;00m\n\u001b[0;32m----> 2\u001b[0m val_dataset \u001b[38;5;241m=\u001b[39m Cityscape(ds,  transform\u001b[38;5;241m=\u001b[39mtransform,operation\u001b[38;5;241m=\u001b[39m\u001b[38;5;124m'\u001b[39m\u001b[38;5;124mvalidation\u001b[39m\u001b[38;5;124m'\u001b[39m)\n\u001b[1;32m      3\u001b[0m val_data_loader \u001b[38;5;241m=\u001b[39m DataLoader(val_dataset, batch_size\u001b[38;5;241m=\u001b[39m\u001b[38;5;241m32\u001b[39m, shuffle\u001b[38;5;241m=\u001b[39m\u001b[38;5;28;01mTrue\u001b[39;00m,drop_last\u001b[38;5;241m=\u001b[39m\u001b[38;5;28;01mTrue\u001b[39;00m )\n",
      "\u001b[0;31mNameError\u001b[0m: name 'ds' is not defined"
     ]
    }
   ],
   "source": [
    "path = \"\" #RootDir\n"
   ]
  },
  {
   "cell_type": "code",
   "execution_count": null,
   "id": "2d60f730-ba38-49f1-b19c-9dce736429fe",
   "metadata": {},
   "outputs": [],
   "source": [
    "val_dataset = Cityscape(ds,  transform=transform,operation='validation')\n",
    "val_data_loader = DataLoader(val_dataset, batch_size=32, shuffle=True,drop_last=True )\n",
    "color_map = np.zeros((num_classes, 3), dtype=np.uint8)\n",
    "for label in labels_def:\n",
    "    if label.trainId != 255:\n",
    "        color_map[label.trainId] = label.color\n",
    "model.eval()\n",
    "with torch.no_grad():\n",
    "    for images, labels in tqdm(val_data_loader, desc=\"Evaluating\"):\n",
    "        images = images.to(device)\n",
    "        labels = labels.to(device)\n",
    "        outputs = model(images)  # shape (N, C, H, W)\n",
    "        loss = criterion(outputs['out'], labels)\n",
    "        eval_metrics['loss'].append(loss.item())\n",
    "        evaluate_metrics(outputs['out'],labels,num_classes)\n",
    "        \n",
    "\n",
    " \n"
   ]
  }
 ],
 "metadata": {
  "kernelspec": {
   "display_name": "Python 3 (ipykernel)",
   "language": "python",
   "name": "python3"
  },
  "language_info": {
   "codemirror_mode": {
    "name": "ipython",
    "version": 3
   },
   "file_extension": ".py",
   "mimetype": "text/x-python",
   "name": "python",
   "nbconvert_exporter": "python",
   "pygments_lexer": "ipython3",
   "version": "3.12.8"
  }
 },
 "nbformat": 4,
 "nbformat_minor": 5
}
